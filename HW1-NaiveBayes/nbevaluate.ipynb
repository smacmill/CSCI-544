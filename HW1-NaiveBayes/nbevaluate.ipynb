{
 "cells": [
  {
   "cell_type": "code",
   "execution_count": 30,
   "metadata": {},
   "outputs": [
    {
     "name": "stdout",
     "output_type": "stream",
     "text": [
      "3445\n",
      "25\n"
     ]
    }
   ],
   "source": [
    "import os # need for filepath stuff\n",
    "import sys # for command line stuff\n",
    "\n",
    "outputFileName = \"nboutput.txt\"\n",
    "of = open(outputFileName, \"r\", encoding=\"latin1\")\n",
    "results = of.read()\n",
    "results = results.split(\"\\n\") # splits labels and paths into a big list\n",
    "\n",
    "hamAsHam = 0\n",
    "hamAsSpam = 0\n",
    "spamAsHam = 0\n",
    "spamAsSpam = 0\n",
    "\n",
    "numHam = 0\n",
    "numSpam = 0\n",
    "\n",
    "for line in results:\n",
    "    if \".ham\" in line:\n",
    "        numHam += 1\n",
    "    if \".spam\" in line:\n",
    "        numSpam += 1\n",
    "        \n",
    "for line in results:\n",
    "    answerKey = line.split(\"\\t\")\n",
    "    #print(answerKey)\n",
    "    if answerKey[0] == \"ham\":\n",
    "        if \".ham\" in answerKey[1]:\n",
    "            hamAsHam += 1\n",
    "        elif \".spam\" in answerKey[1]:\n",
    "            spamAsHam += 1\n",
    "        else:\n",
    "            continue\n",
    "    elif answerKey[0] == \"spam\":\n",
    "        if \".ham\" in answerKey[1]:\n",
    "            hamAsSpam += 1\n",
    "        elif \".spam\" in answerKey[1]:\n",
    "            spamAsSpam += 1\n",
    "        else:\n",
    "            continue\n",
    "    else:\n",
    "        continue # skip anything weird\n",
    "print(spamAsSpam)\n",
    "print(hamAsSpam)"
   ]
  },
  {
   "cell_type": "code",
   "execution_count": 31,
   "metadata": {},
   "outputs": [
    {
     "name": "stdout",
     "output_type": "stream",
     "text": [
      "Precision(spam) = 0.9927953890489913\n",
      "Precision(ham) = 0.8651026392961877\n",
      "Recall(spam) = 0.9374149659863945\n",
      "Recall(ham) = 0.9833333333333333\n",
      "F1(spam) = 0.9643107067879636\n",
      "F1(ham) = 0.9204368174726988\n"
     ]
    }
   ],
   "source": [
    "# precision\n",
    "precisionSpam = float(spamAsSpam)/(float(spamAsSpam) + float(hamAsSpam))\n",
    "precisionHam = float(hamAsHam)/(float(hamAsHam) + float(spamAsHam))\n",
    "\n",
    "print(\"Precision(spam) = \" + str(precisionSpam))\n",
    "print(\"Precision(ham) = \" + str(precisionHam))\n",
    "\n",
    "# recall\n",
    "recallSpam = float(spamAsSpam)/float(numSpam)\n",
    "recallHam = float(hamAsHam)/float(numHam)\n",
    "\n",
    "print(\"Recall(spam) = \" + str(recallSpam))\n",
    "print(\"Recall(ham) = \" + str(recallHam))\n",
    "\n",
    "# F1 score\n",
    "F1spam = (2.0*precisionSpam*recallSpam)/(precisionSpam + recallSpam)\n",
    "F1ham = (2.0*precisionHam*recallHam)/(precisionHam + recallHam)\n",
    "\n",
    "print(\"F1(spam) = \" + str(F1spam))\n",
    "print(\"F1(ham) = \" + str(F1ham))"
   ]
  },
  {
   "cell_type": "code",
   "execution_count": null,
   "metadata": {},
   "outputs": [],
   "source": []
  }
 ],
 "metadata": {
  "kernelspec": {
   "display_name": "Python 3",
   "language": "python",
   "name": "python3"
  },
  "language_info": {
   "codemirror_mode": {
    "name": "ipython",
    "version": 3
   },
   "file_extension": ".py",
   "mimetype": "text/x-python",
   "name": "python",
   "nbconvert_exporter": "python",
   "pygments_lexer": "ipython3",
   "version": "3.6.5"
  }
 },
 "nbformat": 4,
 "nbformat_minor": 2
}
